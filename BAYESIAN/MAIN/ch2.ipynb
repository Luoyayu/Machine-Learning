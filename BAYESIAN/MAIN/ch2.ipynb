{
 "cells": [
  {
   "cell_type": "code",
   "execution_count": 1,
   "metadata": {},
   "outputs": [
    {
     "name": "stdout",
     "output_type": "stream",
     "text": [
      "use TF imperative mode\n"
     ]
    }
   ],
   "source": [
    "import tensorflow as tf\n",
    "import tensorflow_probability as tfp\n",
    "from IPython.core.pylabtools import figsize\n",
    "from matplotlib import pylab as plt;\n",
    "import numpy as np\n",
    "\n",
    "plt.style.use('fivethirtyeight')\n",
    "%matplotlib inline\n",
    "\n",
    "tfe = tf.contrib.eager # Eager模式\n",
    "use_tf_eager = True\n",
    "if use_tf_eager:\n",
    "    try:\n",
    "        tf.enable_eager_execution() # TF 动态图\n",
    "        print(\"use TF imperative mode\")\n",
    "    except:\n",
    "        print(\"use TF declarative mode\")\n",
    "        pass\n",
    "\n",
    "tfd = tfp.distributions # 统计分布和双射变换\n",
    "tfb = tfp.bijectors # 双射运算\n",
    "\n",
    "def reset_sess(config=None):\n",
    "    tf.reset_default_graph()\n",
    "    try:\n",
    "        sess.close()\n",
    "    except:\n",
    "        pass\n",
    "    sess = tf.InteractiveSession(config=config)\n",
    "reset_sess()\n",
    "\n",
    "class _TFColor(object):    \n",
    "    \"\"\"Enum of colors used in TF docs.\"\"\"\n",
    "    red = '#F15854'\n",
    "    blue = '#5DA5DA'\n",
    "    orange = '#FAA43A'\n",
    "    green = '#60BD68'\n",
    "    pink = '#F17CB0'\n",
    "    brown = '#B2912F'\n",
    "    purple = '#B276B2'\n",
    "    yellow = '#DECF3F'\n",
    "    gray = '#4D4D4D'\n",
    "    def __getitem__(self, i):\n",
    "        return [\n",
    "            self.red,\n",
    "            self.orange,\n",
    "            self.green,\n",
    "            self.blue,\n",
    "            self.pink,\n",
    "            self.brown,\n",
    "            self.purple,\n",
    "            self.yellow,\n",
    "            self.gray,\n",
    "        ][i % 9]\n",
    "TFColor = _TFColor()\n",
    "\n",
    "def evaluate(tensors):\n",
    "    if tf.executing_eagerly():\n",
    "         return tf.contrib.framework.nest.pack_sequence_as(\n",
    "             tensors,\n",
    "             [t.numpy() if tf.contrib.framework.is_tensor(t) else t\n",
    "             for t in tf.contrib.framework.nest.flatten(tensors)])\n",
    "    with tf.Session() as sess:\n",
    "        return sess.run(tensors)"
   ]
  },
  {
   "cell_type": "code",
   "execution_count": null,
   "metadata": {},
   "outputs": [],
   "source": [
    "# 随机分布，例如Uniform，Poission，Exponential，每次sample返回不同值\n"
   ]
  }
 ],
 "metadata": {
  "kernelspec": {
   "display_name": "Python 3",
   "language": "python",
   "name": "python3"
  },
  "language_info": {
   "codemirror_mode": {
    "name": "ipython",
    "version": 3
   },
   "file_extension": ".py",
   "mimetype": "text/x-python",
   "name": "python",
   "nbconvert_exporter": "python",
   "pygments_lexer": "ipython3",
   "version": "3.6.8"
  }
 },
 "nbformat": 4,
 "nbformat_minor": 2
}

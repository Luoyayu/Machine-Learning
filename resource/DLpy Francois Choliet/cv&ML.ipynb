{
 "cells": [
  {
   "cell_type": "markdown",
   "metadata": {},
   "source": [
    "# 高维单位球体积"
   ]
  },
  {
   "cell_type": "markdown",
   "metadata": {},
   "source": [
    "- 高维单位球体积随维数增大趋于$0$   \n",
    "直观上有悖常理: $2$-> $\\pi$-> $\\frac{4}{3}\\pi$  \n",
    "可从高维单位立方体获得启示:   \n",
    "我们知道立方体的体积始终等于边长的累积故始终为$1$"
   ]
  },
  {
   "cell_type": "markdown",
   "metadata": {},
   "source": [
    "$hypercube$ 中, 可知顶点到圆心的距离为$\\displaystyle \\frac{\\sqrt{d}}{2}$"
   ]
  },
  {
   "cell_type": "markdown",
   "metadata": {},
   "source": [
    "- 该例子解释了在高维空间（例如$hypercube$ 随机挑选两个点的距离将远远大于$1$）"
   ]
  },
  {
   "cell_type": "code",
   "execution_count": null,
   "metadata": {},
   "outputs": [],
   "source": []
  }
 ],
 "metadata": {
  "kernelspec": {
   "display_name": "Python 3",
   "language": "python",
   "name": "python3"
  },
  "language_info": {
   "codemirror_mode": {
    "name": "ipython",
    "version": 3
   },
   "file_extension": ".py",
   "mimetype": "text/x-python",
   "name": "python",
   "nbconvert_exporter": "python",
   "pygments_lexer": "ipython3",
   "version": "3.6.7"
  }
 },
 "nbformat": 4,
 "nbformat_minor": 2
}

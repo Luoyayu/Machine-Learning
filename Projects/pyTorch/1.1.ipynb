{
 "cells": [
  {
   "cell_type": "code",
   "execution_count": 1,
   "metadata": {},
   "outputs": [],
   "source": [
    "from __future__ import print_function\n",
    "import torch"
   ]
  },
  {
   "cell_type": "code",
   "execution_count": 11,
   "metadata": {},
   "outputs": [
    {
     "name": "stdout",
     "output_type": "stream",
     "text": [
      "tensor([[ 0.0000e+00, -3.6893e+19,  0.0000e+00],\n",
      "        [-3.6893e+19,  7.0065e-45,  0.0000e+00],\n",
      "        [ 0.0000e+00,  0.0000e+00,  0.0000e+00],\n",
      "        [ 1.6213e-01,  4.2934e-08,  1.6613e-07],\n",
      "        [ 2.1765e-04,  2.1271e+23,  4.1298e-05]])\n",
      "tensor([[0, 0, 0],\n",
      "        [0, 0, 0],\n",
      "        [0, 0, 0],\n",
      "        [0, 0, 0],\n",
      "        [0, 0, 0]])\n",
      "tensor([[0.0508, 0.4538, 0.7925],\n",
      "        [0.7348, 0.6197, 0.1112],\n",
      "        [0.4175, 0.7986, 0.4972],\n",
      "        [0.6169, 0.2477, 0.8940],\n",
      "        [0.0135, 0.6834, 0.2397]])\n",
      "tensor([5., 3.])\n",
      "tensor([[1., 1., 1.],\n",
      "        [1., 1., 1.],\n",
      "        [1., 1., 1.],\n",
      "        [1., 1., 1.],\n",
      "        [1., 1., 1.]], dtype=torch.float64)\n",
      "tensor([[ 1.8338, -1.0406,  2.5550],\n",
      "        [-0.0144,  0.0238,  0.5866],\n",
      "        [-0.8249,  0.5451, -0.5430],\n",
      "        [ 0.1042,  0.4824,  1.4957],\n",
      "        [ 1.1243,  0.5734,  0.9695]])\n",
      "torch.Size([5, 3])\n"
     ]
    }
   ],
   "source": [
    "unInitTensor = torch.empty(5, 3) # 创建未初始化的 Tensors\n",
    "print(unInitTensor)\n",
    "\n",
    "longInitTensor = torch.zeros(5, 3, dtype=torch.long) # 0(long)填充\n",
    "print(longInitTensor)\n",
    "\n",
    "randInitTensor = torch.rand(5, 3) # 随机填充\n",
    "print(randInitTensor)\n",
    "\n",
    "x = torch.tensor([5.0, 3.])\n",
    "print(x)\n",
    "\n",
    "x = x.new_ones(5, 3, dtype=torch.double)\n",
    "print(x)\n",
    "\n",
    "x = torch.randn_like(x, dtype=torch.float) # 对象的size 相同, 覆盖dtype属性\n",
    "print(x, x.size(), sep='\\n')"
   ]
  },
  {
   "cell_type": "code",
   "execution_count": 23,
   "metadata": {},
   "outputs": [
    {
     "name": "stdout",
     "output_type": "stream",
     "text": [
      "tensor([[1.8695, 1.5975, 1.0956],\n",
      "        [1.9073, 1.0913, 1.8277],\n",
      "        [1.0709, 1.7738, 1.8941],\n",
      "        [1.9831, 1.6594, 1.6619],\n",
      "        [1.5096, 1.9608, 1.9512]])\n",
      "tensor([[1.8695, 1.5975, 1.0956],\n",
      "        [1.9073, 1.0913, 1.8277],\n",
      "        [1.0709, 1.7738, 1.8941],\n",
      "        [1.9831, 1.6594, 1.6619],\n",
      "        [1.5096, 1.9608, 1.9512]])\n",
      "tensor([[1.8695, 1.5975, 1.0956],\n",
      "        [1.9073, 1.0913, 1.8277],\n",
      "        [1.0709, 1.7738, 1.8941],\n",
      "        [1.9831, 1.6594, 1.6619],\n",
      "        [1.5096, 1.9608, 1.9512]])\n",
      "tensor([[1.8695, 1.5975, 1.0956],\n",
      "        [1.9073, 1.0913, 1.8277],\n",
      "        [1.0709, 1.7738, 1.8941],\n",
      "        [1.9831, 1.6594, 1.6619],\n",
      "        [1.5096, 1.9608, 1.9512]])\n",
      "tensor([1.5975, 1.0913, 1.7738, 1.6594, 1.9608])\n"
     ]
    }
   ],
   "source": [
    "x = torch.ones(5, 3, dtype=torch.float)\n",
    "y = torch.rand(5, 3, dtype=torch.float)\n",
    "print(x + y)\n",
    "print(torch.add(x, y))\n",
    "\n",
    "result = torch.empty(5, 3)\n",
    "torch.add(x, y, out=result)\n",
    "print(result)\n",
    "\n",
    "y.add_(x) # op_ 操作会用结果替代原变量\n",
    "print(y)\n",
    "\n",
    "print(result[:, 1])"
   ]
  },
  {
   "cell_type": "code",
   "execution_count": 26,
   "metadata": {},
   "outputs": [
    {
     "data": {
      "text/plain": [
       "(torch.Size([4, 4]), torch.Size([16]), torch.Size([2, 8]))"
      ]
     },
     "execution_count": 26,
     "metadata": {},
     "output_type": "execute_result"
    }
   ],
   "source": [
    "x = torch.randn(4, 4)\n",
    "y = x.view(16)\n",
    "z = x.view(-1, 8)\n",
    "x.size(), y.size(), z.size()"
   ]
  },
  {
   "cell_type": "code",
   "execution_count": 34,
   "metadata": {},
   "outputs": [
    {
     "data": {
      "text/plain": [
       "(tensor([-1.7352]), -1.735228180885315)"
      ]
     },
     "execution_count": 34,
     "metadata": {},
     "output_type": "execute_result"
    }
   ],
   "source": [
    "x = torch.randn(1)\n",
    "x, x.item()"
   ]
  },
  {
   "cell_type": "code",
   "execution_count": 35,
   "metadata": {},
   "outputs": [
    {
     "data": {
      "text/plain": [
       "tensor([1., 1., 1., 1., 1.])"
      ]
     },
     "execution_count": 35,
     "metadata": {},
     "output_type": "execute_result"
    }
   ],
   "source": [
    "a = torch.ones(5)\n",
    "a"
   ]
  },
  {
   "cell_type": "code",
   "execution_count": 36,
   "metadata": {},
   "outputs": [
    {
     "data": {
      "text/plain": [
       "array([1., 1., 1., 1., 1.], dtype=float32)"
      ]
     },
     "execution_count": 36,
     "metadata": {},
     "output_type": "execute_result"
    }
   ],
   "source": [
    "b = a.numpy()\n",
    "b"
   ]
  },
  {
   "cell_type": "code",
   "execution_count": 37,
   "metadata": {},
   "outputs": [
    {
     "data": {
      "text/plain": [
       "(tensor([2., 2., 2., 2., 2.]), array([2., 2., 2., 2., 2.], dtype=float32))"
      ]
     },
     "execution_count": 37,
     "metadata": {},
     "output_type": "execute_result"
    }
   ],
   "source": [
    "a.add_(1), b # ndarray b 也会更改"
   ]
  },
  {
   "cell_type": "code",
   "execution_count": 38,
   "metadata": {},
   "outputs": [
    {
     "data": {
      "text/plain": [
       "(array([2., 2., 2., 2., 2.]),\n",
       " tensor([2., 2., 2., 2., 2.], dtype=torch.float64))"
      ]
     },
     "execution_count": 38,
     "metadata": {},
     "output_type": "execute_result"
    }
   ],
   "source": [
    "import numpy as np\n",
    "a = np.ones(5)\n",
    "b = torch.from_numpy(a) # Tensor b也会更改\n",
    "np.add(a, 1, out=a)\n",
    "a, b"
   ]
  },
  {
   "cell_type": "code",
   "execution_count": null,
   "metadata": {},
   "outputs": [],
   "source": []
  }
 ],
 "metadata": {
  "kernelspec": {
   "display_name": "Python 3",
   "language": "python",
   "name": "python3"
  },
  "language_info": {
   "codemirror_mode": {
    "name": "ipython",
    "version": 3
   },
   "file_extension": ".py",
   "mimetype": "text/x-python",
   "name": "python",
   "nbconvert_exporter": "python",
   "pygments_lexer": "ipython3",
   "version": "3.6.8"
  }
 },
 "nbformat": 4,
 "nbformat_minor": 2
}

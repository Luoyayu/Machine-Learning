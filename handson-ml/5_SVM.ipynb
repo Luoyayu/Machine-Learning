{
 "cells": [
  {
   "cell_type": "markdown",
   "metadata": {},
   "source": [
    "## 支持向量机特性\n",
    "支持向量机在机器学习中多才多艺, 能够做线性或非线性分类,回归任务甚至是局外检测(outlier detection)   \n",
    "SVM 非常适合做复杂的,中小规模的分类任务"
   ]
  },
  {
   "cell_type": "markdown",
   "metadata": {},
   "source": [
    "## Liner SVM Classification"
   ]
  },
  {
   "cell_type": "markdown",
   "metadata": {},
   "source": [
    "### How SVM works"
   ]
  },
  {
   "cell_type": "markdown",
   "metadata": {},
   "source": [
    "![](./images/SVM/LargeMarginClassification.png)"
   ]
  },
  {
   "cell_type": "markdown",
   "metadata": {},
   "source": [
    "上图的两个类可以被一条直线划分, 形如被直线划分的称为线性可分(*linearly separable*)   \n",
    "左图, 显示了3种线性划分的直线.   \n",
    "虚线的没有很好的对数据集划分   \n",
    "其余两条线虽然做对了划分, 但是对于两类的区分较模糊, 数据点距离分类边界太近了, 对于新数据极有可能误判.    \n",
    "左图展示了 SVM 的划分策略, 正确的划分并且距离两类的边界尽可能的远     \n",
    "这种产生*widest possible street*的划分称为$Large\\ margin\\ classification$    \n",
    "*widest possible street*仅有两类的边界确定, 因此边界上的点比较特殊,这些*instances*就是支持向量(**support vector**)"
   ]
  },
  {
   "cell_type": "markdown",
   "metadata": {},
   "source": [
    "**TIPS:**\n",
    "正是由于SVM能根据数据点分布做出 widest possible street 的划分, 因此对于数据集做 feature scaling 就尤为重要   \n",
    "![](./images/SVM/SensitiveToFeatureScaling.png)"
   ]
  },
  {
   "cell_type": "markdown",
   "metadata": {},
   "source": [
    "如上图, 左图在未规约scale时, 分类边界趋于水平且区分不大   \n",
    "右图, 可见在两个轴scale差别不大下, street更宽"
   ]
  },
  {
   "cell_type": "markdown",
   "metadata": {},
   "source": [
    "## Soft Margin Classification "
   ]
  },
  {
   "cell_type": "markdown",
   "metadata": {},
   "source": [
    "引入硬间隔支持向量机Hard margin SVM,   \n",
    "其严格定义数据集分布在street的一侧(而非简单的在划分一侧)       \n",
    "这样的分类是我们所期望的, 但是往往数据集不能如此做划分, 假设有一个outlier就能让widest possible street变得很窄,   \n",
    "或者有些根本就是线性不可分的   \n",
    "因此我们的模型需要有更大的灵活性, 引入软间隔(soft margin Classification),    \n",
    "在最大化widest possibile street和间隔违背(margin violation)中寻求平衡   "
   ]
  },
  {
   "cell_type": "markdown",
   "metadata": {},
   "source": [
    "在sklearn 中我们用超参`C`控制 balance, 当C越大时, 产生的street越窄, 但是更少的间隔违背(有更严的错误容忍)     \n",
    "有时候然而尽管会产生margin violation, 但如果落在正确的一侧, 仍然是较好的划分      \n",
    "![](https://s1.ax1x.com/2018/05/10/C0eL6g.png)\n",
    "如模型发生过拟合, 考虑减少C值    "
   ]
  },
  {
   "cell_type": "code",
   "execution_count": 2,
   "metadata": {},
   "outputs": [
    {
     "data": {
      "text/plain": [
       "Pipeline(memory=None,\n",
       "     steps=[('scaler', StandardScaler(copy=True, with_mean=True, with_std=True)), ('linear_svc', LinearSVC(C=1, class_weight=None, dual=True, fit_intercept=True,\n",
       "     intercept_scaling=1, loss='hinge', max_iter=1000, multi_class='ovr',\n",
       "     penalty='l2', random_state=None, tol=0.0001, verbose=0))])"
      ]
     },
     "execution_count": 2,
     "metadata": {},
     "output_type": "execute_result"
    }
   ],
   "source": [
    "import numpy as np\n",
    "from sklearn.pipeline import Pipeline\n",
    "from sklearn.preprocessing import StandardScaler, normalize\n",
    "from sklearn.svm import LinearSVC, SVC\n",
    "from sklearn.datasets import load_iris\n",
    "iris = load_iris()\n",
    "X = iris['data'][:, (2,3)]\n",
    "y = (iris['target']==2).astype(np.float64)\n",
    "\n",
    "svm_clf = Pipeline([\n",
    "        (\"scaler\", StandardScaler()),\n",
    "        (\"linear_svc\", LinearSVC(C=1, loss=\"hinge\"))\n",
    "])\n",
    "\n",
    "# 使用SVC构造, 效能较低, 尤其在大数据集上, 这里推荐用损失函数为hinge的随机梯度下降\n",
    "# svm_clf = Pipeline([(\"scaler\", StandardScaler()), (\"linear_svc\", SVC(kernel=\"linear\", C=1))])\n",
    "\n",
    "svm_clf.fit(X, y)"
   ]
  },
  {
   "cell_type": "code",
   "execution_count": 9,
   "metadata": {},
   "outputs": [
    {
     "name": "stdout",
     "output_type": "stream",
     "text": [
      "150\n"
     ]
    },
    {
     "name": "stderr",
     "output_type": "stream",
     "text": [
      "/Users/hu-osx/anaconda3/envs/tensorflow/lib/python3.6/site-packages/sklearn/linear_model/stochastic_gradient.py:128: FutureWarning: max_iter and tol parameters have been added in <class 'sklearn.linear_model.stochastic_gradient.SGDClassifier'> in 0.19. If both are left unset, they default to max_iter=5 and tol=None. If tol is not None, max_iter defaults to max_iter=1000. From 0.21, default max_iter will be 1000, and default tol will be 1e-3.\n",
      "  \"and default tol will be 1e-3.\" % type(self), FutureWarning)\n"
     ]
    },
    {
     "data": {
      "text/plain": [
       "Pipeline(memory=None,\n",
       "     steps=[('scaler', StandardScaler(copy=True, with_mean=True, with_std=True)), ('linear_svc', SGDClassifier(alpha=0.006666666666666667, average=False, class_weight=None,\n",
       "       epsilon=0.1, eta0=0.0, fit_intercept=True, l1_ratio=0.15,\n",
       "       learning_rate='optimal', loss='hinge', max_iter=None, n_iter=None,\n",
       "       n_jobs=1, penalty='l2', power_t=0.5, random_state=None,\n",
       "       shuffle=True, tol=None, verbose=0, warm_start=False))])"
      ]
     },
     "execution_count": 9,
     "metadata": {},
     "output_type": "execute_result"
    }
   ],
   "source": [
    "# 使用SGD训练Linear SVC的核外算法\n",
    "from sklearn.linear_model import SGDClassifier\n",
    "m = len(X)\n",
    "C = 1\n",
    "svm_clf = Pipeline([(\"scaler\", StandardScaler()), (\"linear_svc\", SGDClassifier(loss=\"hinge\", alpha=1/(m*C)))])\n",
    "svm_clf.fit(X, y)\n",
    "# 与直接LinearSVC相比收敛速度慢, 但是优势在核外算法不会超内存, 有利于在线分类任务"
   ]
  },
  {
   "cell_type": "markdown",
   "metadata": {},
   "source": [
    "## Nonlinear SVM Classification\n",
    "针对那些线性不可分    \n",
    "解决之道: 像多项式回归一样, 增加多项式特征项    \n",
    "一个简单的例子    \n",
    "![](https://s1.ax1x.com/2018/05/10/C0uCyF.png)\n"
   ]
  },
  {
   "cell_type": "markdown",
   "metadata": {},
   "source": [
    "左图线性不可分, 右图添加一些$x_2=(x_1)^2$, 数据集变成线性可分"
   ]
  },
  {
   "cell_type": "code",
   "execution_count": 58,
   "metadata": {},
   "outputs": [
    {
     "data": {
      "text/plain": [
       "Pipeline(memory=None,\n",
       "     steps=[('poly_features', PolynomialFeatures(degree=3, include_bias=True, interaction_only=False)), ('scaler', StandardScaler(copy=True, with_mean=True, with_std=True)), ('svm_clf', LinearSVC(C=10, class_weight=None, dual=True, fit_intercept=True,\n",
       "     intercept_scaling=1, loss='hinge', max_iter=1000, multi_class='ovr',\n",
       "     penalty='l2', random_state=42, tol=0.0001, verbose=0))])"
      ]
     },
     "execution_count": 58,
     "metadata": {},
     "output_type": "execute_result"
    }
   ],
   "source": [
    "# 一个多项式特征解决非线性划分\n",
    "from sklearn.datasets import make_moons\n",
    "from sklearn.pipeline import Pipeline\n",
    "from sklearn.preprocessing import PolynomialFeatures\n",
    "from matplotlib.pylab import plt\n",
    "\n",
    "X, y = make_moons(n_samples=100, noise=0.15, random_state=42)\n",
    "\n",
    "polynomial_svm_clf = Pipeline([\n",
    "        (\"poly_features\", PolynomialFeatures(degree=3)),\n",
    "        (\"scaler\", StandardScaler()),\n",
    "        (\"svm_clf\", LinearSVC(C=10, loss=\"hinge\", random_state=42))\n",
    "    ])\n",
    "\n",
    "polynomial_svm_clf.fit(X, y)"
   ]
  },
  {
   "cell_type": "code",
   "execution_count": 85,
   "metadata": {},
   "outputs": [
    {
     "data": {
      "image/png": "[encoded data removed]",
      "text/plain": [
       "<Figure size 432x288 with 1 Axes>"
      ]
     },
     "metadata": {},
     "output_type": "display_data"
    },
    {
     "data": {
      "image/png": "[encoded data removed]",
      "text/plain": [
       "<Figure size 432x288 with 1 Axes>"
      ]
     },
     "metadata": {},
     "output_type": "display_data"
    }
   ],
   "source": [
    "def plot_dataset(X, y, axes):\n",
    "    plt.plot(X[:, 0][y==0], X[:, 1][y==0], 'bs') # 切片操作用标记筛选,相当于布尔索引?!\n",
    "    plt.plot(X[:, 0][y==1], X[:, 1][y==1], 'g^')\n",
    "    plt.axis(axes) # 坐标轴范围\n",
    "    plt.grid(True, which='both') # 显示网格\n",
    "    plt.xlabel(r'$x_1$', fontsize=20)\n",
    "    plt.ylabel(r'$x_2$', fontsize=20)\n",
    "\n",
    "def plot_predictions(clf, axes):\n",
    "    x0s = np.linspace(axes[0], axes[1], 100)\n",
    "    x1s = np.linspace(axes[2], axes[3], 100)\n",
    "    x0, x1 = np.meshgrid(x0s, x1s)\n",
    "    X = np.c_[x0.ravel(), x1.ravel()]\n",
    "    \n",
    "    y_pred = clf.predict(X).reshape(x0.shape)\n",
    "    y_decision = clf.decision_function(X).reshape(x0.shape)\n",
    "    \n",
    "    plt.contourf(x0, x1, y_pred, cmap=plt.cm.brg, alpha=0.2)\n",
    "    plt.contourf(x0, x1, y_decision, cmap=plt.cm.brg, alpha=0.1)\n",
    "    # x,y,z z为(x,y)点值\n",
    "    \n",
    "plt.title(\"Train Set\")\n",
    "plot_dataset(X, y, [-1.5, 2.5, -1, 1.5])\n",
    "plt.show()\n",
    "plt.title(\"Prediction\")\n",
    "plot_predictions(polynomial_svm_clf,[-1.5, 2.5, -1, 1.5])\n",
    "plot_dataset(X, y, [-1.5, 2.5, -1, 1.5])\n",
    "plt.show()"
   ]
  },
  {
   "cell_type": "markdown",
   "metadata": {},
   "source": [
    ">上述方法显而易见的缺陷是添加如此多的特征, 训练起来会爆内存, 为此我们引入一些核技巧"
   ]
  },
  {
   "cell_type": "markdown",
   "metadata": {},
   "source": [
    "## Polynomial Kernel\n",
    "多项式核, 好处显而易见, 然而会有huge number of features    \n",
    "在做多项式SVM时这里引入一种数学核技巧($kernel\\ trick$)    \n",
    "该技巧实际上并不会让你加入任何更多的特征....   \n",
    "但能取得与加入一些高维特征后一样的效能"
   ]
  },
  {
   "cell_type": "code",
   "execution_count": 3,
   "metadata": {},
   "outputs": [
    {
     "data": {
      "text/plain": [
       "Pipeline(memory=None,\n",
       "     steps=[('scaler', StandardScaler(copy=True, with_mean=True, with_std=True)), ('svm_clf', SVC(C=5, cache_size=200, class_weight=None, coef0=1,\n",
       "  decision_function_shape='ovr', degree=3, gamma='auto', kernel='poly',\n",
       "  max_iter=-1, probability=False, random_state=None, shrinking=True,\n",
       "  tol=0.001, verbose=False))])"
      ]
     },
     "execution_count": 3,
     "metadata": {},
     "output_type": "execute_result"
    }
   ],
   "source": [
    "poly_kernel_svm_clf = Pipeline([\n",
    "        (\"scaler\", StandardScaler()),\n",
    "        (\"svm_clf\", SVC(kernel=\"poly\", degree=3, coef0=1, C=5))\n",
    "        # 超参coef0 控制受高次影响较低次影响的\n",
    "])\n",
    "poly_kernel_svm_clf.fit(X, y)"
   ]
  },
  {
   "cell_type": "markdown",
   "metadata": {},
   "source": [
    "## Adding Similarity Featuers\n",
    "除了添加高维特征外我们还可以增加相似特征处理非线性分类任务    \n",
    "引入相似函数去描述和给定的landmark相比, 这些特征有多类似  \n",
    ">高斯径向基/核函数($Gaussian\\ Radial\\ Basis\\ Function$)       \n",
    "简称为$Gaussian\\ RBF$,    $\\displaystyle \\phi(\\mathrm{x}, \\ell)=e^{-\\gamma||(\\mathrm{x}-\\ell)||^2}$\n",
    "\n",
    "![](https://s1.ax1x.com/2018/05/10/C0GBi4.png)"
   ]
  },
  {
   "cell_type": "markdown",
   "metadata": {},
   "source": [
    "高斯径向基函数求出相似特征, 比如左图增加$x_1=-2, x_2=2$为landmarks, 抛弃旧有特征, 在正确选择landmark下, 原有的数据集变得线性可分,   \n",
    "比如x=(-1,0) 经过变换为(e^(-\\gamma*1), e^(\\gamma*))如何选择合适的landmark呢? 一种尝试是在每个instance都添加landmark, 最终总能达成线性可分"
   ]
  },
  {
   "cell_type": "markdown",
   "metadata": {},
   "source": [
    "## Gaussian RBF Kernel\n",
    "同样, 如果在每个样例上增加landmark计算开销很大, 这里我们采用核技巧, 实际上仍然不会添加任何特征"
   ]
  },
  {
   "cell_type": "code",
   "execution_count": 87,
   "metadata": {},
   "outputs": [
    {
     "data": {
      "text/plain": [
       "Pipeline(memory=None,\n",
       "     steps=[('scaler', StandardScaler(copy=True, with_mean=True, with_std=True)), ('svm_clf', SVC(C=0.001, cache_size=200, class_weight=None, coef0=0.0,\n",
       "  decision_function_shape='ovr', degree=3, gamma=5, kernel='rbf',\n",
       "  max_iter=-1, probability=False, random_state=None, shrinking=True,\n",
       "  tol=0.001, verbose=False))])"
      ]
     },
     "execution_count": 87,
     "metadata": {},
     "output_type": "execute_result"
    }
   ],
   "source": [
    "rbf_kernel_svm_clf = Pipeline([\n",
    "    (\"scaler\", StandardScaler()),\n",
    "    (\"svm_clf\", SVC(kernel=\"rbf\", gamma=5, C=0.001))\n",
    "])\n",
    "rbf_kernel_svm_clf.fit(X, y)"
   ]
  },
  {
   "cell_type": "markdown",
   "metadata": {},
   "source": [
    ">超参$\\gamma, C$的解释\n",
    "![](https://s1.ax1x.com/2018/05/13/CDl8HO.png)"
   ]
  },
  {
   "cell_type": "markdown",
   "metadata": {},
   "source": [
    "当$\\gamma$变大时, 钟形曲线变窄, 意味着, landmark影响范围变小, 造成决策边界不规则, 曲线在单样例附近摆动.   \n",
    "$\\gamma $ 在这里起到的作用像正则化的超参数, 如果迷行过拟合应该减少其.      \n",
    "除高斯核外还有正对文本的String Kernel, 不过用的比较少, 针对DNA序列"
   ]
  },
  {
   "cell_type": "markdown",
   "metadata": {},
   "source": [
    "as a rule of thumb根据经验, 默认使用`LinearSVC`,    \n",
    "在数据集不大的情况下, 使用高斯核在大多数情况下表现不错,    \n",
    "如果有多余的算力和时间, 当然可以用网格搜索"
   ]
  },
  {
   "cell_type": "markdown",
   "metadata": {},
   "source": [
    "## Computational Complexity"
   ]
  },
  {
   "cell_type": "markdown",
   "metadata": {},
   "source": [
    "`LinearSVC` 无核技巧 复杂度$O(m \\times n)$   \n",
    "`SVC` 核技巧 介于$O(m^2\\times n)和O(m^3 \\times n)$"
   ]
  },
  {
   "cell_type": "markdown",
   "metadata": {},
   "source": [
    "## SVM Regression\n",
    "SVM 回归任务"
   ]
  },
  {
   "cell_type": "markdown",
   "metadata": {},
   "source": [
    "在做分类任务时, 变目标为, 在street中fit 尽可能多的样例, street的宽度由超参$\\varepsilon $控制   \n",
    "![](https://s1.ax1x.com/2018/05/13/CD1QiQ.png)"
   ]
  },
  {
   "cell_type": "markdown",
   "metadata": {},
   "source": [
    "多项式核SVR"
   ]
  },
  {
   "cell_type": "markdown",
   "metadata": {},
   "source": [
    "![](https://s1.ax1x.com/2018/05/13/CD1lGj.png)"
   ]
  },
  {
   "cell_type": "markdown",
   "metadata": {},
   "source": [
    "当C变大时, 间隔边界更拟合数据, 容纳更多"
   ]
  },
  {
   "cell_type": "markdown",
   "metadata": {},
   "source": [
    "**TIPS:** SVMs更适合 *outlier detection*"
   ]
  },
  {
   "cell_type": "markdown",
   "metadata": {},
   "source": [
    "## Under the Hood"
   ]
  },
  {
   "cell_type": "markdown",
   "metadata": {},
   "source": [
    ">**揭开引擎盖, 一探究竟**"
   ]
  },
  {
   "cell_type": "markdown",
   "metadata": {},
   "source": [
    "### Decision Function and Predictions"
   ]
  },
  {
   "cell_type": "markdown",
   "metadata": {},
   "source": [
    "### Training Objective"
   ]
  },
  {
   "cell_type": "markdown",
   "metadata": {},
   "source": [
    "训练目标: 对于硬间隔来说, 我们要求得一个尽可能大的间隔, 同时间隔内部没有点   \n",
    "先考虑如何尽可能大间隔,    \n",
    "考虑decision function的斜率$||\\mathbf{w}||$, 如果我们对其除以2, 则$f=\\pm 1$的位置将变远,也就是间隔变大了,   \n",
    "如此我们有直观的印象: 在约束下最小化$\\mathbf{w}$"
   ]
  },
  {
   "cell_type": "markdown",
   "metadata": {},
   "source": [
    "#### Hard Margin Objective"
   ]
  },
  {
   "cell_type": "markdown",
   "metadata": {},
   "source": [
    "$\\displaystyle \\underset{\\mathbf{w}, b}{\\textrm{minmize}} \\ \\ \\frac{1}{2}\\mathbf{w}^T\\cdot \\mathbf{w}$      \n",
    "$\\displaystyle \\mathrm{subject\\ to}\\ \\ \\ t^{(i)}(\\mathbf{w}^T\\cdot \\mathbf{x}^{(i)}+b)\\geqslant 1,\\ \\  for\\ i=1,2,\\cdot \\cdot \\cdot,m$   \n",
    "其中 $\\begin{cases} t^{(i)}=-1& \\text{ if } y^{(i)}=0 \\\\ t^{(i)}=1& \\text{ if } y^{(i)}=1 \\end{cases}$"
   ]
  },
  {
   "cell_type": "markdown",
   "metadata": {},
   "source": [
    "#### Soft Margin Objective"
   ]
  },
  {
   "cell_type": "markdown",
   "metadata": {},
   "source": [
    "为了达到软间隔的目标, 引入松弛变量$(slack\\ variance\\ \\zeta^{(i)}\\geqslant 0)$    \n",
    "对于每一个样例, $\\zeta^{(i)}$表示该样例有多去违背间隔的程度    \n",
    "然而在前进的路上我们遇到了冲突, 既想着尽可能小的$\\zeta$去产生间隔违背, 又想着最小化$\\frac{1}{2}\\mathbf{w}^T\\cdot \\mathbf{w}$来产生尽可能大的间隔   \n",
    "为此我们引入了超参数$C$ 表示这种$trade-off$    \n",
    "目标:     \n",
    "$\\displaystyle \\underset{\\mathbf{w}, b, \\zeta}{\\textrm{minmize}} \\ \\ \\frac{1}{2}\\mathbf{w}^T\\cdot \\mathbf{w}+C\\sum_{i=1}^{m} \\zeta^{(i)}$    \n",
    "$\\displaystyle subject\\ to\\ \\ \\ t^{(i)}(\\mathbf{w}^T\\cdot \\mathbf{x}^{(i)}+b)\\geqslant 1-\\zeta^{(i)},\\ \\  and\\ \\ \\zeta^{(i)}\\geqslant 0\\ \\ \\ for\\ i=1,2,\\cdot \\cdot \\cdot,m$"
   ]
  },
  {
   "cell_type": "markdown",
   "metadata": {},
   "source": [
    "### Quadratic Programming 二次规划   \n",
    "**补充内容 Convex Optimization[Stephen Boyd]**       \n",
    "硬间隔和软间隔问题都是属于线性约束下凸二次优化问题, $Quadratic\\ Programming(QP)$  \n",
    "典型的二次规划问题:    \n",
    "$\\underset{\\mathbf{p}}{\\mathrm{Minimize}}: \\displaystyle \\frac{1}{2}\\mathbf{P}^T\\cdot \\mathbf{H}\\cdot \\mathbf{p} + \\mathbf{f}^T\\cdot \\mathbf{P}$  目标函数理解为二次型函数加上正则化罚项    \n",
    "$\\mathrm{subject\\ to:}$  $\\mathbf{A}\\cdot \\mathbf{p} \\leq \\mathbf{b}$"
   ]
  },
  {
   "cell_type": "markdown",
   "metadata": {},
   "source": [
    "## The Dual Problem\n",
    "对偶问题的解给出了原问题$(promal\\ problem)$解的下界   \n",
    "线性SVM对偶形式的目标函数   \n",
    "$\\displaystyle \\underset{\\alpha}{\\mathrm{minimize}} \\frac{1}{2}\\sum_{i=1}^{m} \\sum_{j=1}^{m} \\alpha^{(i)} \\alpha^{(j)} t^{(i)} t^{(j)} \\mathrm{x}^{(i)^T}\\cdot \\mathrm{x}^{(j)} -\\sum_{i=1}^m\\alpha^{(i)}$    \n",
    "$\\mathrm{subject\\ to}:\\ \\alpha^{(i)}\\geqslant 0, for\\ i=1,2,\\cdot \\cdot \\cdot ,m$"
   ]
  },
  {
   "cell_type": "markdown",
   "metadata": {},
   "source": [
    "### 下面给出该对偶问题的求解"
   ]
  },
  {
   "cell_type": "markdown",
   "metadata": {},
   "source": [
    "硬间隔问题一般性拉格朗日    \n",
    "$\\displaystyle \\mathscr{L}(\\mathbf{w},b,\\alpha)=\\frac{1}{2}\\mathbf{w}^T\\cdot \\mathbf{w}-\\sum_{i=1}^m\\alpha^{(i)}(t^{(i)}(\\mathbf{w}^T\\cdot \\mathbf{x}^{(i)}+b)-1)$   \n",
    "$\\mathrm{with\\ \\alpha^{(i)}}\\geqslant 0,\\ \\  for\\ i=1,2,\\cdot \\cdot \\cdot,m$      \n",
    "</br>  \n",
    "$stationart\\ point\\ (\\hat{\\mathbf{w}},\\hat{b},\\hat{\\alpha})$满足一定的条件, 称为$KKT$条件    \n",
    "</br> \n",
    "- 满足约束, 即$\\displaystyle t^{(i)}(\\hat{(\\mathbf{w})}^T\\cdot \\mathbf{x}^{(i)}+\\hat{b})\\geq 1$   \n",
    "- $\\hat{\\alpha}^{(i)}\\geq 0$    \n",
    "- 要么$\\hat{\\alpha}^{(i)}= 0$,要么第$i$个约束必须是有效约束$(avtive\\ constraint) $ 也就是$\\displaystyle t^{(i)}(\\hat{(\\mathbf{w})}^T\\cdot \\mathbf{x}^{(i)}+\\hat{b})= 1$这种情况为互补松弛$(complementary\\ slackness)$, 而这指出要么拉格朗日乘子为$0$, 要么第$i$个约束靠在边界上, 这些就是支持向量    \n",
    "</br>\n",
    "$\\displaystyle \\bigtriangledown_\\mathbf{w}\\mathscr{L}(\\mathbf{w},b,\\alpha)=\\mathbf{w}-\\sum_{i=1}^m\\alpha^{(i)}t^{(i)}\\mathbf{x}^{(i)}$   \n",
    "</br>\n",
    "$\\displaystyle \\frac{\\partial }{\\partial b}\\mathscr{L}(\\mathbf{w},b,\\alpha)=-\\sum_{i=1}^m\\alpha^{(i)}t^{(i)}$    \n",
    "All equal to $0$    \n",
    "so we can deriver that    \n",
    "$\\displaystyle \\mathbf{w}=\\sum_{i=1}^m\\alpha^{(i)}t^{(i)}\\mathbf{x}^{(i)}$    \n",
    "$\\displaystyle \\sum_{i=1}^m\\alpha^{(i)}t^{(i)}=0$   \n",
    "以上细节推导记及核函数,预测于笔记本中详述   \n",
    "与<SVM三种境界> 相比, 由 $\\alpha$ 求得$b$的过程有些差别, 在handson-ml上采取的是在全体数据集上的平均, \n",
    "在SVM的三种境界上采取的是最大值最小值平均   "
   ]
  },
  {
   "cell_type": "markdown",
   "metadata": {},
   "source": [
    "在线SVMs 使用了SGD的思想进行在线学习"
   ]
  },
  {
   "cell_type": "markdown",
   "metadata": {},
   "source": [
    "## Hinge Loss"
   ]
  },
  {
   "cell_type": "markdown",
   "metadata": {},
   "source": [
    "![](./images/SVM/hingeloss.png)"
   ]
  },
  {
   "cell_type": "code",
   "execution_count": null,
   "metadata": {},
   "outputs": [],
   "source": []
  }
 ],
 "metadata": {
  "kernelspec": {
   "display_name": "Python 3",
   "language": "python",
   "name": "python3"
  },
  "language_info": {
   "codemirror_mode": {
    "name": "ipython",
    "version": 3
   },
   "file_extension": ".py",
   "mimetype": "text/x-python",
   "name": "python",
   "nbconvert_exporter": "python",
   "pygments_lexer": "ipython3",
   "version": "3.6.7"
  }
 },
 "nbformat": 4,
 "nbformat_minor": 2
}

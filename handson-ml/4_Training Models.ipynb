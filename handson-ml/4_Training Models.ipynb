{
 "cells": [
  {
   "cell_type": "markdown",
   "metadata": {},
   "source": [
    "## Linear Regression"
   ]
  },
  {
   "cell_type": "markdown",
   "metadata": {},
   "source": [
    "$\\hat{y}=\\theta_0+\\theta_1x_1+\\theta_2x_2+...+\\theta_nx_n$   \n",
    "$\\hat{y}=h_\\theta(\\mathbf{x})=\\theta^T \\cdot \\mathbf{x}$  \n",
    "$\\displaystyle MSE(\\theta)=MES(\\mathbf{X}, \\theta)=\\frac{1}{m}\\sum_{i=1}^m(\\theta^T \\cdot \\mathbf{x}^{(i)}-y^{(i)})^2$   \n",
    "闭解:  $\\hat{\\theta}=(\\mathbf{X}^T\\cdot \\mathbf{X}^{-1})\\cdot \\mathbf{X}^T\\cdot \\mathbf{y}$"
   ]
  },
  {
   "cell_type": "code",
   "execution_count": 2,
   "metadata": {},
   "outputs": [],
   "source": [
    "import numpy as np\n",
    "import tensorflow as tf\n",
    "\n",
    "X = np.random.rand(100,1) * 2\n"
   ]
  },
  {
   "cell_type": "markdown",
   "metadata": {},
   "source": [
    "### Gradient Descent"
   ]
  },
  {
   "cell_type": "markdown",
   "metadata": {},
   "source": [
    "#### Batch GD"
   ]
  },
  {
   "cell_type": "markdown",
   "metadata": {},
   "source": [
    "#### SGD"
   ]
  },
  {
   "cell_type": "markdown",
   "metadata": {},
   "source": [
    "### Polynomial Regression"
   ]
  },
  {
   "cell_type": "markdown",
   "metadata": {},
   "source": [
    "### Learning Curves"
   ]
  },
  {
   "cell_type": "markdown",
   "metadata": {},
   "source": [
    "### Regularized Linear Models\n",
    "正则化线性模型有效避免模型过拟合, 通过约束权重有三种方法"
   ]
  },
  {
   "cell_type": "markdown",
   "metadata": {},
   "source": [
    "#### Ridge Regression\n",
    "岭回归   \n",
    "cost function 加二范数罚, 超参$\\alpha$控制, $\\alpha$越大约束越大  \n",
    "$\\displaystyle J(\\theta)=MSE(\\theta)+\\frac{1}{2}\\alpha\\sum_{i=1}^n\\theta_i^2$    \n",
    "$\\theta_0$不用正则,$\\frac{1}{2}$便于求导    \n",
    "在采用岭回归前要先缩放数据, 考虑在$l_2-ball$内一致性缩放   \n",
    "岭回归牺牲了无偏性提高了有效性, 减少了方差增加了偏差 more flatter(resonable)     \n",
    "闭解:$\\hat{\\theta}=(\\mathbf{X}^T\\cdot \\mathbf{X}+\\alpha \\mathbf{A})^{-1}\\cdot \\mathbf{X}^T \\cdot \\mathbf{y}$   \n"
   ]
  },
  {
   "cell_type": "code",
   "execution_count": 1,
   "metadata": {},
   "outputs": [
    {
     "data": {
      "text/plain": [
       "(Ridge(alpha=1, copy_X=True, fit_intercept=True, max_iter=None,\n",
       "    normalize=False, random_state=None, solver='cholesky', tol=0.001),\n",
       " SGDRegressor(alpha=0.0001, average=False, epsilon=0.1, eta0=0.01,\n",
       "        fit_intercept=True, l1_ratio=0.15, learning_rate='invscaling',\n",
       "        loss='squared_loss', max_iter=None, n_iter=None, penalty='l2',\n",
       "        power_t=0.25, random_state=None, shuffle=True, tol=None, verbose=0,\n",
       "        warm_start=False))"
      ]
     },
     "execution_count": 1,
     "metadata": {},
     "output_type": "execute_result"
    }
   ],
   "source": [
    "from sklearn.linear_model import Ridge, SGDRegressor\n",
    "\n",
    "ridge_reg = Ridge(alpha=1, solver='cholesky')\n",
    "sgd_reg = SGDRegressor(penalty='l2')\n",
    "ridge_reg, sgd_reg"
   ]
  },
  {
   "cell_type": "markdown",
   "metadata": {},
   "source": [
    "#### Lasso Regression\n",
    "最小绝对收缩和选择算子    \n",
    "$cost\\ function$加一范数罚, 系数约束, 过高的degree可能在Lasso中权置零，进而消除不重要的特征     \n",
    "$\\displaystyle J(\\theta)=MSE(\\theta)+\\alpha\\sum_{i=1}^n|\\theta_i|$          \n",
    "在$0$处不可微, 引入$subgradient\\ vector\\ \\mathbf{g}$    \n",
    "$sign(\\theta_i)=\\begin{cases}\n",
    " -1 & \\text{ if } \\theta_i<0 \\\\ \n",
    " 0 & \\text{ if } \\theta_i=0 \\\\ \n",
    " +1 & \\text{ if } \\theta_i>0 \n",
    "\\end{cases}$   \n",
    "$g(\\theta, J)=\\bigtriangledown_\\theta MSE(\\theta)+\\alpha\\cdot sign(\\theta)$   "
   ]
  },
  {
   "cell_type": "code",
   "execution_count": 2,
   "metadata": {},
   "outputs": [
    {
     "data": {
      "text/plain": [
       "Lasso(alpha=0.1, copy_X=True, fit_intercept=True, max_iter=1000,\n",
       "   normalize=False, positive=False, precompute=False, random_state=None,\n",
       "   selection='cyclic', tol=0.0001, warm_start=False)"
      ]
     },
     "execution_count": 2,
     "metadata": {},
     "output_type": "execute_result"
    }
   ],
   "source": [
    "from sklearn.linear_model import Lasso\n",
    "lasso_reg = Lasso(alpha=0.1)\n",
    "lasso_reg"
   ]
  },
  {
   "cell_type": "markdown",
   "metadata": {},
   "source": [
    "#### Elastic Net\n",
    "弹性网络  \n",
    "$\\displaystyle J(\\theta)=MSE(\\theta)+r\\alpha\\sum_{i=1}^n|\\theta_i|+\\frac{1-r}{2}\\alpha\\sum_{i=1}^n\\theta_i^2, r \\in [0,1]$  "
   ]
  },
  {
   "cell_type": "markdown",
   "metadata": {},
   "source": [
    "何时使用这三种正则化呢?\n",
    "默认选Ridge, 如果发现只有少部分特征是有用的优先选择Elastic Net, Lasso表现不正常当特征数大于训练数,或者有些特征关联性十分强"
   ]
  },
  {
   "cell_type": "markdown",
   "metadata": {},
   "source": [
    "### Earning Stopping\n",
    "停止法, 早停止"
   ]
  },
  {
   "cell_type": "markdown",
   "metadata": {},
   "source": [
    "### Logistic Regression "
   ]
  },
  {
   "cell_type": "markdown",
   "metadata": {},
   "source": [
    "#### Estimating Probabilities"
   ]
  },
  {
   "cell_type": "markdown",
   "metadata": {},
   "source": [
    "- $Logistic\\ Regression\\ model\\ estimated\\ probabilities$       \n",
    "$\\hat{p}=h_{\\theta}(\\mathbf{x})=\\sigma(\\theta^{T}\\cdot \\mathbf{x})\\in[0,1]$   \n",
    "<br>     \n",
    "- $Logistic\\ function$     \n",
    "$\\displaystyle \\sigma(t)=\\frac{1}{1+e^{-t}}$   \n",
    "<img src='./images/logisticfunction.png' align='left' style=' width:200px;height:100 px'/> "
   ]
  },
  {
   "cell_type": "markdown",
   "metadata": {},
   "source": [
    "- $Logistic\\ Regression\\ model\\ prediction$  \n",
    "$\n",
    "\\hat{y}=\n",
    "\\begin{cases}\n",
    " 0 & \\text{if }\\ \\hat{p}<0.5 \\\\\n",
    " 1 & \\text{if }\\ \\hat{p}\\geqslant0.5\n",
    "\\end{cases}\n",
    "$"
   ]
  },
  {
   "cell_type": "markdown",
   "metadata": {},
   "source": [
    "#### Training and Cots Function\n",
    "训练模型和为$logistics\\ regression$确定损失函数   <br>  \n",
    "我们设计的损失函数要有以下的特性：接受$\\hat{p}$作为输入，对于$\\theta_{i}$, 以$x^{(i)}=\\mathbf{x}$为例     \n",
    "当标记为$1$时，$\\hat{p}$靠近$1$, $c(\\theta_i)$越小，远离$1$时, $c(\\theta_i)$越大   \n",
    "当标记为$0$时，相反  "
   ]
  },
  {
   "cell_type": "code",
   "execution_count": 3,
   "metadata": {},
   "outputs": [],
   "source": [
    "import numpy as np\n",
    "import matplotlib.pylab as plt\n",
    "from math import *\n",
    "plt.subplot(221);\n",
    "x = np.arange(0.00001, 1.5, 0.00001)\n",
    "y = -np.log(x)\n",
    "plt.title(r'$y=-log(\\hat{p})$')\n",
    "plt.plot(x, y)\n",
    "plt.hlines(0, 0, 1.5, colors = \"r\", linestyles = \"dashed\",lw = 0.5)\n",
    "plt.vlines(0, 0, 15, colors = \"r\", linestyles = \"dashed\",lw = 0.5)\n",
    "plt.plot([1.0],[0.0], '*')\n",
    "plt.subplot(222);\n",
    "plt.title(r'$y=-log(1-\\hat{p})$')\n",
    "y = -np.log(1-x)\n",
    "plt.plot(x, y)\n",
    "plt.hlines(0, 0, 1.5, colors = \"r\", linestyles = \"dashed\",lw = 0.5)\n",
    "plt.vlines(0, 0, 15, colors = \"r\", linestyles = \"dashed\",lw = 0.5)\n",
    "plt.plot([1.0],[0.0], '*')\n",
    "# plt.savefig('neglog.png')\n",
    "plt.show()"
   ]
  },
  {
   "cell_type": "markdown",
   "metadata": {},
   "source": [
    "<img src='./images/neglog.png' align='left'/>   "
   ]
  },
  {
   "cell_type": "markdown",
   "metadata": {},
   "source": [
    "由上图可得到单样例的损失函数\n",
    "$c(\\theta)=\n",
    "\\begin{cases} \n",
    "-log(\\hat{p}) &\\text{if }\\ \\mathrm{y}=1\\\\ \n",
    "-log(1-\\hat{p}) &\\text{if }\\ \\mathrm{y}=0\n",
    "\\end{cases}$"
   ]
  },
  {
   "cell_type": "markdown",
   "metadata": {},
   "source": [
    "据$f=-log$函数的这种特性我们可以得出出在全体样例上的损失函数   \n",
    "<br>\n",
    "- $Logistic\\ Regression\\ cost\\ function\\ (log\\ loss)$   \n",
    "$\\displaystyle J(\\theta)=-\\frac{1}{m}\\sum_{i=1}^m(\\hat{y}^{(i)}log(\\hat{p}^{(i)})+(1-\\hat{y}^{(i)})log(1-\\hat{p}^{(i)}))$   \n",
    "*Tips:这恰好是最小化$\\mathrm{cross\\ entropy}$*    \n",
    "注意该损失函数无法求出闭解,但是该函数是凸函数, 可以用*GD*或者其他算法求得全局最小值   \n",
    "<br>\n",
    "- $Logistics\\ cost\\ function\\ partial\\ derivatives$   \n",
    "有$\\hat{p}^{(i)}=\\sigma(\\theta^{T}\\cdot \\mathbf{x}^{(i)})$  \n",
    "带入上式得$\\displaystyle J(\\theta)=-\\frac{1}{m}\\sum_{i=1}^m\\left [\\hat{y}^{(i)}\\sigma(\\theta^{T}\\cdot \\mathbf{x}^{(i)})+(1-\\hat{y}^{(i)})(1-\\sigma(\\theta^{T}\\cdot \\mathbf{x}^{(i)}))  \\right ]$    \n",
    "对$\\theta_j$求偏导数$\\displaystyle \\frac{\\partial }{\\partial \\theta_j}J(\\theta)=\\frac{1}{m}\\sum_{i=1}^{m}(\\sigma(\\theta^T\\cdot \\mathbf{x}^{(i)})-y^{(i)})\\ x_j^{(i)}$    \n",
    "该形式与$MSE$的偏导数一致,很方便在一次迭代中求得所有的$\\theta$"
   ]
  },
  {
   "cell_type": "markdown",
   "metadata": {},
   "source": [
    "### Decision Boundaries\n",
    "决策边界, 当$\\sigma(\\cdot)=0.5$时出现决策边界"
   ]
  },
  {
   "cell_type": "code",
   "execution_count": 4,
   "metadata": {},
   "outputs": [
    {
     "data": {
      "text/plain": [
       "['data', 'target', 'target_names', 'DESCR', 'feature_names']"
      ]
     },
     "execution_count": 4,
     "metadata": {},
     "output_type": "execute_result"
    }
   ],
   "source": [
    "from sklearn import datasets\n",
    "iris = datasets.load_iris()\n",
    "list(iris.keys())"
   ]
  },
  {
   "cell_type": "code",
   "execution_count": 5,
   "metadata": {},
   "outputs": [],
   "source": [
    "X = iris['data'][:, 3:]\n",
    "y = (iris['target']==2).astype(np.int)"
   ]
  },
  {
   "cell_type": "code",
   "execution_count": 6,
   "metadata": {},
   "outputs": [
    {
     "data": {
      "text/plain": [
       "LogisticRegression(C=1.0, class_weight=None, dual=False, fit_intercept=True,\n",
       "          intercept_scaling=1, max_iter=100, multi_class='ovr', n_jobs=1,\n",
       "          penalty='l2', random_state=42, solver='liblinear', tol=0.0001,\n",
       "          verbose=0, warm_start=False)"
      ]
     },
     "execution_count": 6,
     "metadata": {},
     "output_type": "execute_result"
    }
   ],
   "source": [
    "from sklearn.linear_model import LogisticRegression\n",
    "log_reg = LogisticRegression(random_state=42)\n",
    "log_reg.fit(X, y)"
   ]
  },
  {
   "cell_type": "code",
   "execution_count": 7,
   "metadata": {},
   "outputs": [
    {
     "name": "stdout",
     "output_type": "stream",
     "text": [
      "[0.50011773]\n"
     ]
    }
   ],
   "source": [
    "X_new = np.linspace(0, 3, 1000).reshape(-1, 1)\n",
    "y_proba = log_reg.predict_proba(X_new)\n",
    "y_proba[:]\n",
    "print(log_reg.predict_proba([[1.6129]])[:,1])"
   ]
  },
  {
   "cell_type": "code",
   "execution_count": 8,
   "metadata": {},
   "outputs": [
    {
     "data": {
      "text/plain": [
       "array([1.4])"
      ]
     },
     "execution_count": 8,
     "metadata": {},
     "output_type": "execute_result"
    }
   ],
   "source": [
    "min(X[100:])"
   ]
  },
  {
   "cell_type": "code",
   "execution_count": 9,
   "metadata": {},
   "outputs": [
    {
     "data": {
      "image/png": "[encoded data removed]",
      "text/plain": [
       "<Figure size 432x288 with 1 Axes>"
      ]
     },
     "metadata": {},
     "output_type": "display_data"
    }
   ],
   "source": [
    "plt.plot(X_new, y_proba[:,1], 'g--', label=\"pred Iris-V\")\n",
    "plt.plot(X_new, y_proba[:,0], 'b--', label=\"pred not Iris-V\")\n",
    "plt.plot(X[100:], np.ones(len(X[100:])), label='train is V')\n",
    "plt.plot(X[:100], np.zeros(len(X[:100])), label='train not V')\n",
    "plt.hlines(0,-0.1,3,colors = \"r\", linestyles = \"dashed\",lw = 0.5)\n",
    "plt.hlines(1,0,3,colors = \"r\", linestyles = \"dashed\",lw = 0.5)\n",
    "plt.vlines(0,-0.1,1,colors = \"r\", linestyles = \"dashed\",lw = 0.5)\n",
    "plt.vlines(1.6129, 0, 0.5,colors = \"r\", linestyles = \"dashed\",lw = 0.5)\n",
    "plt.vlines(1.8, 0, 0.4,colors = \"r\", linestyles = \"dashed\",lw = 0.5)\n",
    "plt.vlines(1.4, 0.62, 1,colors = \"r\", linestyles = \"dashed\",lw = 0.5)\n",
    "plt.hlines(0.5,0,1.6129,colors = \"r\", linestyles = \"dashed\",lw = 0.5)\n",
    "plt.legend()\n",
    "plt.show()"
   ]
  },
  {
   "cell_type": "markdown",
   "metadata": {},
   "source": [
    "上图中,橙色水平线为在训练集中不是V型的花瓣宽度, 蓝色水平线为是V型的花瓣宽度,可以看到二者有重叠   \n",
    "经训练后模型给出决策边界在两条曲线相交处50%对应的1.6129为界   \n",
    "在二维特征中,决策边界可能为条带区域   \n",
    "在sklearn中,$logistic\\ regression\\ cost\\ function$ 默认加$l2$范数罚   \n",
    "同时不同于其他模型,规定正则化程度的是$C$而非常见的$alpha$"
   ]
  },
  {
   "cell_type": "markdown",
   "metadata": {},
   "source": [
    "### Softmax Regression"
   ]
  },
  {
   "cell_type": "markdown",
   "metadata": {},
   "source": [
    "$Logistics\\ Regression$不必像二分类器那样组合形成多标签分类器    \n",
    "称支持多$class$的$logistics\\ regression$为$Softmax\\ Regression$或$Multinomial\\ Logistic Regression$\n",
    "\n",
    "- $Softmax\\ function$    \n",
    "柔性最大值函数, 归一化指数函数   \n",
    "是逻辑函数的推广,Logistics将实数集映射到$[0,1]$,   \n",
    "$softmax$函数将任意实数的$K$维向量$\\mathbf{z}$压缩到另一个$K$维实向量$\\sigma(\\mathbf{z})$中,使得每一个元素都在$(0,1)$,且元素之和为$1$    \n",
    "该函数通常为以下形式:    \n",
    "$\\displaystyle \\sigma(\\mathbf{z})_j=\\frac{e^{\\mathit{z}_j}}{\\sum_{k=1}^{K}e^{\\mathit{z}_k}}$,    $j=1,2,..,K $ "
   ]
  },
  {
   "cell_type": "markdown",
   "metadata": {},
   "source": [
    "#### $Softmax\\ Regression$多标签分类实现    \n",
    "<br>\n",
    "对于一个样例$\\mathbf{x}$计算出每一个$class$的$probability$ $s_k(\\mathbf{x}),k=1,...,K$ 放进$\\sigma(\\cdot)$中得到$\\hat{p}_k$   \n",
    "其中$s_k\\mathbf(\\mathbf{x})=\\theta_k^T\\cdot \\mathbf{x}$, $\\theta_k$为第$k$个$class$对应的参数    \n",
    "$\\displaystyle \\hat{p}_k=\\sigma(\\mathbf{s}(\\mathbf{x}))_k=\\frac{e^{s_k(\\mathbf{x})}}{\\sum_{j=1}^{K}e^{s_j(\\mathbf{x})}}$ \n",
    "\n",
    "> - $K$ $class$数量   \n",
    "- $\\mathbf{s}(\\mathbf{x})$  $vector$ 所有$class$求得$softmax\\ score$, $\\mathbf{s}(\\mathbf{x})=\\begin{pmatrix}\n",
    " \\theta_1^T\\cdot \\mathbf{x}\\\\ \n",
    "\\cdot \\\\\n",
    "\\cdot \\\\\n",
    "\\theta_K^T\\cdot \\mathbf{x}\\\\ \n",
    "\\end{pmatrix}$\n",
    "  \n",
    "注意Softmax分类器以多项式分布为模型,其可以分类的是多种互斥的类别    \n",
    "$\\displaystyle \\hat{y}=\\underset{k}{argmax} \\ \\hat{p}_k$等价于 $\\underset{k}{argmax}(\\theta_k^T \\cdot \\mathbf{x})$"
   ]
  },
  {
   "cell_type": "markdown",
   "metadata": {},
   "source": [
    "### Training Softmax Regression\n",
    "最小化成本函数, 在多标签问题中我们采用**交叉熵**评估参数    \n",
    "- $\\displaystyle J(\\Theta)=-\\frac{1}{m}\\sum_{i=1}^m\\sum_{k=1}^{K}1(y_k^{(i)}=k)log(\\hat{p}^{(i)}_k)$    \n",
    "当模型预测$\\hat{y}=k时我们加上-log(\\hat{p}_k)$作为惩罚项   \n",
    "当$K=2$时正好为$log\\ loss$   \n",
    "\n",
    "**交叉熵**    \n",
    "在两个离散型概率分布$p,q$,定义交叉熵$H(p,q)=-\\sum_xp(x)log(q(x))$     \n",
    "$\\displaystyle \\bigtriangledown \\theta_kJ(\\Theta)=-\\frac{1}{m}\\sum_{i=1}^{m}(1(y_k^{(i)}=k)-\\hat{p}_k^{(i)})\\mathbf{x}^{(i)}$"
   ]
  },
  {
   "cell_type": "code",
   "execution_count": 10,
   "metadata": {},
   "outputs": [
    {
     "data": {
      "text/plain": [
       "LogisticRegression(C=10, class_weight=None, dual=False, fit_intercept=True,\n",
       "          intercept_scaling=1, max_iter=100, multi_class='multinomial',\n",
       "          n_jobs=1, penalty='l2', random_state=None, solver='lbfgs',\n",
       "          tol=0.0001, verbose=0, warm_start=False)"
      ]
     },
     "execution_count": 10,
     "metadata": {},
     "output_type": "execute_result"
    }
   ],
   "source": [
    "X = iris['data'][:, (2,3)]\n",
    "y = iris['target']\n",
    "softmax_reg = LogisticRegression(multi_class='multinomial', solver='lbfgs', C=10)\n",
    "softmax_reg.fit(X,y)"
   ]
  },
  {
   "cell_type": "code",
   "execution_count": 11,
   "metadata": {},
   "outputs": [
    {
     "data": {
      "text/plain": [
       "(array([2]), array([[6.33134076e-07, 5.75276067e-02, 9.42471760e-01]]))"
      ]
     },
     "execution_count": 11,
     "metadata": {},
     "output_type": "execute_result"
    }
   ],
   "source": [
    "softmax_reg.predict([[5, 2]]), softmax_reg.predict_proba([[5, 2]])"
   ]
  },
  {
   "cell_type": "markdown",
   "metadata": {},
   "source": [
    "### Exercises"
   ]
  },
  {
   "cell_type": "markdown",
   "metadata": {},
   "source": [
    "1. 核外算法,例如SGD,Mini-Batch GD\n",
    "2. GD,尤其是正则化过的线性模型, feature scaling\n",
    "3. NO, Logistic Regression 对应的log loss是凸函数不存在local minimum\n",
    "4. NO, 除了全批量,其余的GD算法最优解在Minimum附近震荡\n",
    "5. NO, 过拟合(training error not up)或者学习率过高学得不细\n",
    "6. NO, Mini-Batch GD和SGD都是随机算法,到达Minimum前的路是震荡的,我们能做的是,在每个epoch时存上最好的模型\n",
    "7. SGD, BGD, 对于随机GD, 越往后学习率越低有利于震荡在Minimum\n",
    "8. 过拟合, 增加训练数据, 减少模型复杂度(degree), 正则化来约束模型自由度\n",
    "9. 高偏差, 降低$\\alpha$   \n",
    "10. (1) 高偏差, 误差降不下来, 模型自由度过高, 总之正则化的模型表现得更为优异   \n",
    "    (2) 需要加上稀疏约束,  自动特征选择   \n",
    "    (3) 某些特征存在较强的关联性, 或特征数明显小于样本数   \n",
    "11. 多输出, logistics regression每次只能归一类,不是多输出模型,故需要两个二分类器处理多输出多标签分类问题, 或者组合标签又显得较为复杂"
   ]
  },
  {
   "cell_type": "markdown",
   "metadata": {},
   "source": [
    "#### 手动实现带停止法的全批量更新Softmax Regression模型   \n",
    "数据集用Iris"
   ]
  },
  {
   "cell_type": "code",
   "execution_count": 4,
   "metadata": {},
   "outputs": [
    {
     "name": "stdout",
     "output_type": "stream",
     "text": [
      "CPU times: user 3.16 ms, sys: 1.47 ms, total: 4.63 ms\n",
      "Wall time: 3.72 ms\n"
     ]
    }
   ],
   "source": [
    "%%time\n",
    "# ============================================================ #\n",
    "# implement Softmax Regression based BGD with Earning Stopping #\n",
    "# TODO: [X] data clean                                         #\n",
    "# TODO: [X] One hot encoding                                   #\n",
    "# TODO: [X] Softmax function                                   #\n",
    "# TODO: [X] Ridge Regression                                   #\n",
    "# TODO: [X] Training models                                    #\n",
    "# TODO: [X] Validating models                                  #\n",
    "# TODO: [X] Earning Stopping                                   #\n",
    "# ============================================================ #\n",
    "\n",
    "from sklearn.datasets import load_iris\n",
    "import numpy as np\n",
    "\n",
    "np.random.seed(42)\n",
    "raw_data = load_iris()\n",
    "# print(raw_data.keys())\n",
    "X = raw_data['data'][:, (2, 3)]  # petal length and width\n",
    "y = raw_data['target']\n",
    "\n",
    "# add x_0=1\n",
    "X = np.c_[np.ones([len(X), 1]), X]  # ones->shape (len(X), 1)\n",
    "\n",
    "# ============================================================\n",
    "# split train set and test set\n",
    "test_ratio, validation_ratio, tot_size = 0.2, 0.2, len(X)\n",
    "test_size, validation_size = int(tot_size * test_ratio), int(tot_size * validation_ratio)\n",
    "train_size = tot_size - test_size - validation_size\n",
    "\n",
    "random_idx = np.random.permutation(tot_size)\n",
    "X_train = X[random_idx[:train_size]]\n",
    "y_train = y[random_idx[:train_size]]\n",
    "\n",
    "X_valid = X[random_idx[train_size:-test_size]]\n",
    "y_valid = y[random_idx[train_size:-test_size]]\n",
    "\n",
    "X_test = X[random_idx[-test_size:]]\n",
    "y_test = y[random_idx[-test_size:]]\n",
    "\n",
    "\n",
    "# ============================================================\n",
    "# y = {0, 1, 2}\n",
    "# we have three class, so let do onehot for them\n",
    "# if n_class=2 it's y look like [0, 1, 0]\n",
    "\n",
    "def de_one_hot(Y):\n",
    "    n_classes = Y.max() + 1\n",
    "    m = len(Y)\n",
    "    y_one_hot = np.zeros((m, n_classes))\n",
    "    y_one_hot[np.arange(m), Y] = 1\n",
    "    return y_one_hot\n",
    "\n",
    "\n",
    "y_train = de_one_hot(y_train)\n",
    "y_valid = de_one_hot(y_valid)\n",
    "y_test = de_one_hot(y_test)\n",
    "\n",
    "# ============================================================\n",
    "# Softmax function\n",
    "\n",
    "def softmax(sx):\n",
    "    \"\"\"\n",
    "    :param sx: All classes softmax score matrix\n",
    "    :return p: ever class probability\n",
    "    \"\"\"\n",
    "    exps = np.exp(sx)\n",
    "    sum_exps = np.sum(exps, axis=1, keepdims=True)\n",
    "    return exps / sum_exps\n",
    "\n",
    "\n",
    "# ============================================================\n",
    "# define number of in/output\n",
    "\n",
    "n_inputs = X_train.shape[1]\n",
    "n_outputs = len(np.unique(y))\n",
    "# Theta :(3 * 3) 3 class, 3 features\n",
    "\n",
    "eta = 0.01\n",
    "n_iterations = 5001\n",
    "m = len(X_train)\n",
    "epsilon = 1e-7  # avoid getting nan value when cal log(pk)"
   ]
  },
  {
   "cell_type": "code",
   "execution_count": 10,
   "metadata": {},
   "outputs": [
    {
     "name": "stdout",
     "output_type": "stream",
     "text": [
      "Epoch-0000 <==================> loss: 1.469604293745519\n",
      "Epoch-0500 <==================> loss: 0.5546031362623158\n",
      "Epoch-1000 <==================> loss: 0.49755344752576314\n",
      "Epoch-1500 <==================> loss: 0.45802641691452484\n",
      "Epoch-2000 <==================> loss: 0.42840128032832586\n",
      "Epoch-2500 <==================> loss: 0.4049577455578595\n",
      "Epoch-3000 <==================> loss: 0.38568313841098867\n",
      "Epoch-3500 <==================> loss: 0.3693910820583783\n",
      "Epoch-4000 <==================> loss: 0.355331726017379\n",
      "Epoch-4500 <==================> loss: 0.34300359813216036\n",
      "Epoch-5000 <==================> loss: 0.3320556275914768\n",
      "Scores: 0.9555555555555556\n",
      "CPU times: user 239 ms, sys: 7.95 ms, total: 247 ms\n",
      "Wall time: 244 ms\n"
     ]
    }
   ],
   "source": [
    "%%time\n",
    "# ============================================================\n",
    "# training and validating model\n",
    "\n",
    "Thetas = np.random.randn(n_inputs, n_outputs)\n",
    "\n",
    "for iteration in range(n_iterations):\n",
    "    sk = X_train.dot(Thetas)\n",
    "    pk = softmax(sk)\n",
    "    log_loss = -np.mean(np.sum(y_train * np.log(pk + epsilon), axis=1))\n",
    "    error = pk - y_train\n",
    "    if not iteration % 500:\n",
    "        print('Epoch-{} <==================> loss: {}'.format(str(iteration).zfill(4), log_loss))\n",
    "    gradients = 1 / m * X_train.T.dot(error)\n",
    "    Thetas = Thetas - eta * gradients\n",
    "\n",
    "vsk = X_valid.dot(Thetas)  # validating set sk\n",
    "vpk = softmax(vsk)  # softmax sk then output pk\n",
    "vy_predict = de_one_hot(np.argmax(vpk, axis=1))  # 输出的是(1, -1) 转换成(-1, 3)\n",
    "print('Scores:', np.mean(vy_predict == y_valid))  # compare with validation set\n",
    "# 0.9555555555555556"
   ]
  },
  {
   "cell_type": "code",
   "execution_count": 12,
   "metadata": {},
   "outputs": [
    {
     "name": "stdout",
     "output_type": "stream",
     "text": [
      "Epoch-0000 <==================> l2 loss: 4.188061038052556\n",
      "Epoch-0500 <==================> l2 loss: 0.9170325188465561\n",
      "Epoch-1000 <==================> l2 loss: 0.7597808874896241\n",
      "Epoch-1500 <==================> l2 loss: 0.6769156957525758\n",
      "Epoch-2000 <==================> l2 loss: 0.6280160467591782\n",
      "Epoch-2500 <==================> l2 loss: 0.5964058949371841\n",
      "Epoch-3000 <==================> l2 loss: 0.5744852332749585\n",
      "Epoch-3500 <==================> l2 loss: 0.5584507279861403\n",
      "Epoch-4000 <==================> l2 loss: 0.5462369782175306\n",
      "Epoch-4500 <==================> l2 loss: 0.5366405579188294\n",
      "Epoch-5000 <==================> l2 loss: 0.5289169406470305\n",
      "Scores: 0.9555555555555556\n",
      "CPU times: user 428 ms, sys: 7.02 ms, total: 435 ms\n",
      "Wall time: 444 ms\n"
     ]
    }
   ],
   "source": [
    "%%time\n",
    "# ============================================================\n",
    "# try l2 penalty to regularize and validating model\n",
    "\n",
    "Thetas = np.random.randn(n_inputs, n_outputs)\n",
    "alpha = 0.1  # hyperparameter control l2 penalty\n",
    "for iteration in range(n_iterations):\n",
    "    sk = X_train.dot(Thetas)\n",
    "    pk = softmax(sk)\n",
    "    xcross_loss = -np.mean(np.sum(y_train * np.log(pk + epsilon), axis=1))  # cal Cross entropy loss\n",
    "    l2_loss = xcross_loss + alpha * 0.5 * np.sum(np.square(Thetas[1:]))  # cal l2 loss\n",
    "    error = pk - y_train\n",
    "    if not iteration % 500:\n",
    "        print('Epoch-{} <==================> l2 loss: {}'.format(str(iteration).zfill(4), l2_loss))\n",
    "    gradients = 1 / m * X_train.T.dot(error) + np.r_[np.zeros([1, n_outputs]), alpha * Thetas[1:]]\n",
    "    Thetas -= gradients * eta\n",
    "\n",
    "vsk = X_valid.dot(Thetas)  # validating set sk\n",
    "vpk = softmax(vsk)  # softmax sk then output pk\n",
    "vy_predict = de_one_hot(np.argmax(vpk, axis=1))  # 输出的是(1, -1)转换成(-1, 3)\n",
    "print('Scores:', np.mean(vy_predict == y_valid))  # compare with validation set\n",
    "# 0.9777777777777777"
   ]
  },
  {
   "cell_type": "code",
   "execution_count": 16,
   "metadata": {},
   "outputs": [
    {
     "name": "stdout",
     "output_type": "stream",
     "text": [
      "Epoch-0000 <==================> l2 loss: 2.483870190039182\n",
      "Epoch-0500 <==================> l2 loss: 0.8486960759800519\n",
      "Epoch-1000 <==================> l2 loss: 0.6962784649905293\n",
      "Epoch-1500 <==================> l2 loss: 0.6231152746231722\n",
      "Epoch-2000 <==================> l2 loss: 0.5840177019388\n",
      "Epoch-2500 <==================> l2 loss: 0.5606858240218848\n",
      "Epoch-3000 <==================> l2 loss: 0.5453307739345411\n",
      "Epoch-3500 <==================> l2 loss: 0.5344157788724228\n",
      "Epoch-4000 <==================> l2 loss: 0.5262058202640714\n",
      "Epoch-4500 <==================> l2 loss: 0.519775552157043\n",
      "Epoch-5000 <==================> l2 loss: 0.5145896830776464\n",
      "Scores: 0.9777777777777777\n",
      "CPU times: user 430 ms, sys: 8.17 ms, total: 438 ms\n",
      "Wall time: 447 ms\n"
     ]
    }
   ],
   "source": [
    "%%time\n",
    "# ============================================================\n",
    "# Earning Stopping\n",
    "\n",
    "best_loss = np.infty\n",
    "Thetas = np.random.randn(n_inputs, n_outputs)\n",
    "\n",
    "for iteration in range(n_iterations):\n",
    "    sk = X_train.dot(Thetas)\n",
    "    pk = softmax(sk)\n",
    "    xcross_loss = -np.mean(np.sum(y_train * np.log(pk + epsilon), axis=1))  # cal Cross entropy loss\n",
    "    l2_loss = xcross_loss + alpha * 0.5 * np.sum(np.square(Thetas[1:]))  # cal l2 loss\n",
    "    error = pk - y_train\n",
    "    gradients = 1 / m * X_train.T.dot(error) + np.r_[np.zeros([1, n_outputs]), alpha * Thetas[1:]]\n",
    "    Thetas -= gradients * eta\n",
    "\n",
    "    if not iteration % 500:\n",
    "        print('Epoch-{} <==================> l2 loss: {}'.format(str(iteration).zfill(4), l2_loss))\n",
    "    if l2_loss < best_loss:\n",
    "        best_loss = l2_loss\n",
    "    else:\n",
    "        print('Epoch-{} <==================> l2 loss: {}'.format(str(iteration - 1).zfill(4), best_loss))\n",
    "        print('@Earning Stopping!@')\n",
    "        break\n",
    "\n",
    "vsk = X_valid.dot(Thetas)  # validating set sk\n",
    "vpk = softmax(vsk)  # softmax sk then output pk\n",
    "vy_predict = de_one_hot(np.argmax(vpk, axis=1))  # 输出的是(1, -1)转换成(-1, 3)\n",
    "print('Scores:', np.mean(vy_predict == y_valid))  # compare with validation set\n",
    "# 0.9555555555555556"
   ]
  },
  {
   "cell_type": "code",
   "execution_count": 17,
   "metadata": {},
   "outputs": [
    {
     "name": "stdout",
     "output_type": "stream",
     "text": [
      "Final Scores: 1.0\n",
      "CPU times: user 506 µs, sys: 312 µs, total: 818 µs\n",
      "Wall time: 580 µs\n"
     ]
    }
   ],
   "source": [
    "%%time\n",
    "# ============================================================\n",
    "# Test in test set\n",
    "\n",
    "tsk = X_test.dot(Thetas)\n",
    "tpk = softmax(tsk)\n",
    "ty_predict = de_one_hot(np.argmax(tpk, axis=1))\n",
    "print('Final Scores:', np.mean(ty_predict == y_test))\n",
    "# 0.9777777777777777\n",
    "\n",
    "# ============================================================\n",
    "# END"
   ]
  },
  {
   "cell_type": "code",
   "execution_count": null,
   "metadata": {},
   "outputs": [],
   "source": []
  }
 ],
 "metadata": {
  "kernelspec": {
   "display_name": "Python 3",
   "language": "python",
   "name": "python3"
  },
  "language_info": {
   "codemirror_mode": {
    "name": "ipython",
    "version": 3
   },
   "file_extension": ".py",
   "mimetype": "text/x-python",
   "name": "python",
   "nbconvert_exporter": "python",
   "pygments_lexer": "ipython3",
   "version": "3.6.7"
  }
 },
 "nbformat": 4,
 "nbformat_minor": 2
}
